{
 "cells": [
  {
   "cell_type": "code",
   "execution_count": 3,
   "id": "867a58f1",
   "metadata": {},
   "outputs": [
    {
     "name": "stdout",
     "output_type": "stream",
     "text": [
      "['great', 'abc', 'hello', 'hiyo']\n"
     ]
    }
   ],
   "source": [
    "l=['great','hello','hiyo','abc'] \n",
    "l.sort(key=lambda x:x[-2] )\n",
    "print(l)"
   ]
  },
  {
   "cell_type": "code",
   "execution_count": null,
   "id": "c4a5ce7f",
   "metadata": {},
   "outputs": [],
   "source": [
    "\n",
    "class checktrianglerectangle:\n",
    "    def checktriangle(a,b,c):\n",
    "    if(a+b<=c)or(a+c <=b)or(b+c<=a):\n",
    "        return (\"valid\")\n",
    "    else:\n",
    "        return (\"invalid\")\n",
    "    def checkrectangle(a,b,c,d):\n",
    "        if(a==b and d==c)or(a==c and b==d)or(a==d and b==c):\n",
    "            return (\"valid\")\n",
    "        else:\n",
    "            return (\"invalid\")\n",
    "x=checktrianglerectangle()\n",
    "x.checktriangle(3,4,5)\n",
    "x.checkrectangl(1,2,3,4)\n"
   ]
  }
 ],
 "metadata": {
  "kernelspec": {
   "display_name": "Python 3 (ipykernel)",
   "language": "python",
   "name": "python3"
  },
  "language_info": {
   "codemirror_mode": {
    "name": "ipython",
    "version": 3
   },
   "file_extension": ".py",
   "mimetype": "text/x-python",
   "name": "python",
   "nbconvert_exporter": "python",
   "pygments_lexer": "ipython3",
   "version": "3.10.5"
  }
 },
 "nbformat": 4,
 "nbformat_minor": 5
}
